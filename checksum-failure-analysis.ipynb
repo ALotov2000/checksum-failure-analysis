{
 "cells": [
  {
   "cell_type": "markdown",
   "metadata": {},
   "source": [
    "# Checksum Failure Analysis\n",
    "\n",
    "***By Ali Lotfollahi***"
   ]
  },
  {
   "cell_type": "markdown",
   "metadata": {},
   "source": [
    "## Abstract\n",
    "\n",
    "In this notebook, our goal is to compute the probability of UDP checksum failing to detect an existing error. Our inputs in this project are the probability by which a bit alters and also the size of the UDP segment."
   ]
  },
  {
   "cell_type": "markdown",
   "metadata": {},
   "source": [
    "## Formulation\n",
    "\n",
    "Parameters are defined as follows:\n",
    "- the probability with which a bit is altered is shown by $p$.\n",
    "- *the size of a segment* is denoted as $n'$.\n",
    "- *lines of UDP segment sent from the sender*: $Lines$, a binary ($n' \\times 32$) matrix.\n",
    "- *lines of UDP segment received at the receiver*: $Lines'$, a binary ($n' \\times 32$) matrix.\n",
    "\n",
    "Based on $Lines$ and $Lines'$, we can define $Fields$ and $Fields'$ the following way:\n",
    "$$\n",
    "    Fields[i, 1:16] := \\begin{cases}\n",
    "        Lines[k,1:16] &; i = 2k + 1 \\\\\n",
    "        Lines[k,17:32] &; i = 2k\n",
    "    \\end{cases}\n",
    "$$\n",
    "\n",
    "$$\n",
    "    Fields'[i, 1:16] := \\begin{cases}\n",
    "        Lines'[k,1:16] &; i = 2k + 1 \\\\\n",
    "        Lines'[k,17:32] &; i = 2k\n",
    "    \\end{cases}\n",
    "$$\n",
    "\n",
    "We know:\n",
    "- $Fields[1]$ and $Fields[2]$ represent *source port number* and *destination port number* respectively.\n",
    "- $Fields[3]$ demonstrates $n'$.\n",
    "- $Fields[4]$ is the *checksum error* that causes the following equation:\n",
    "$$\n",
    "    \\sum_{i=1}^{2n'} Field[i] = 0\n",
    "$$\n",
    "where the zero in 1's complement is represented as both $1_{16}$ and $0_{16}$.\n",
    "\n",
    "From now on, to avoid unnecessary complications, we define $n$ to be equal to $2n'$"
   ]
  },
  {
   "cell_type": "markdown",
   "metadata": {},
   "source": [
    "### The Goal\n",
    "\n",
    "The goal of this notebook is to calculate the following probability:\n",
    "$$\n",
    "    Pr(\\text{Undetected error}) = Pr(\\sum_{i=1}^{n} Fields'[i] = 0) - Pr(\\text{No alteration})\n",
    "$$\n",
    "\n",
    "Now, if we define:\n",
    "$$ \\Delta[i] := Fields'[i] - Fields[i] $$\n",
    "the following will be true:\n",
    "$$ \\sum_{i=1}^{n} Fields'[i] = 0 \\longleftrightarrow \\sum_{i=1}^{n} \\Delta[i] = 0"
   ]
  },
  {
   "cell_type": "markdown",
   "metadata": {},
   "source": [
    "## Parameters\n",
    "\n",
    "(`M` is put here just for the sake of simplicity)"
   ]
  },
  {
   "cell_type": "code",
   "execution_count": 1,
   "metadata": {},
   "outputs": [],
   "source": [
    "P = 0.01\n",
    "N = 100\n",
    "M = 2 ** 16 - 1"
   ]
  },
  {
   "cell_type": "markdown",
   "metadata": {},
   "source": [
    "## Libraries"
   ]
  },
  {
   "cell_type": "code",
   "execution_count": 2,
   "metadata": {},
   "outputs": [],
   "source": [
    "import numpy as np\n",
    "import matplotlib.pyplot as plt"
   ]
  },
  {
   "cell_type": "markdown",
   "metadata": {},
   "source": [
    "## Recursive Programming\n",
    "\n",
    "The approach taken to find the probability of $\\sum_{i=1}^{2n} \\Delta[i] = 0$ is recursive programming."
   ]
  },
  {
   "cell_type": "markdown",
   "metadata": {},
   "source": [
    "### `f[n, k]`\n",
    "\n",
    "At first, we define $f[n, k]$ the following way:\n",
    "$$\n",
    "    f[n, k]:= \\text{chance of } \\sum_{i = 1}^{n} \\Delta[i] = k\n",
    "$$\n",
    "\n",
    "Now, it is provable to assume:\n",
    "$$\n",
    "    \\forall j \\in [1, n): f[n, k] = \\sum_{x = 0}^{2^{16} - 2} f[j, x]f[n - j, k - x]\n",
    "$$\n",
    "which could be interpreted:\n",
    "$$\n",
    "    \\forall j \\in [1, n): f[n] = \\text{convolution of } (f[j], f[n - j])\n",
    "$$"
   ]
  },
  {
   "cell_type": "code",
   "execution_count": 3,
   "metadata": {},
   "outputs": [],
   "source": [
    "f = np.zeros((N + 1, M), dtype=np.float128)"
   ]
  },
  {
   "cell_type": "markdown",
   "metadata": {},
   "source": [
    "Because $\\sum_{i=1}^{0} \\Delta[i] = 0$ is always true, then \n",
    "$$f[0, 0] = 1$$ \n",
    "and \n",
    "$$\\forall k > 0: f[0, k] = 0$$"
   ]
  },
  {
   "cell_type": "code",
   "execution_count": 4,
   "metadata": {},
   "outputs": [],
   "source": [
    "f[0, 0] = 1"
   ]
  },
  {
   "cell_type": "markdown",
   "metadata": {},
   "source": [
    "If number of 1s in the 16-bit binary representation of $k$ is denoted by $\\lambda(k)$, the chance of $\\Delta = k$ when $k \\neq 0$ is computed as follows: \n",
    "$$f[1, k] = p^{\\lambda(k)}\\times (1-p)^{16 - \\lambda(k)}$$\n",
    "For $k = 0$, we have: \n",
    "$$ f[1, 0] = p^{0}(1-p)^{16} + p^{16}(1-p)^{0} = (1-p)^{16} + p^{16}$$"
   ]
  },
  {
   "cell_type": "code",
   "execution_count": 5,
   "metadata": {},
   "outputs": [
    {
     "data": {
      "text/plain": [
       "array([[1.00000000e+00, 0.00000000e+00, 0.00000000e+00, ...,\n",
       "        0.00000000e+00, 0.00000000e+00, 0.00000000e+00],\n",
       "       [8.51457771e-01, 8.60058355e-03, 8.60058355e-03, ...,\n",
       "        9.80100000e-29, 9.90000000e-31, 9.90000000e-31],\n",
       "       [0.00000000e+00, 0.00000000e+00, 0.00000000e+00, ...,\n",
       "        0.00000000e+00, 0.00000000e+00, 0.00000000e+00],\n",
       "       ...,\n",
       "       [0.00000000e+00, 0.00000000e+00, 0.00000000e+00, ...,\n",
       "        0.00000000e+00, 0.00000000e+00, 0.00000000e+00],\n",
       "       [0.00000000e+00, 0.00000000e+00, 0.00000000e+00, ...,\n",
       "        0.00000000e+00, 0.00000000e+00, 0.00000000e+00],\n",
       "       [0.00000000e+00, 0.00000000e+00, 0.00000000e+00, ...,\n",
       "        0.00000000e+00, 0.00000000e+00, 0.00000000e+00]], dtype=float128)"
      ]
     },
     "execution_count": 5,
     "metadata": {},
     "output_type": "execute_result"
    }
   ],
   "source": [
    "binary = np.fromfunction(lambda x: x, (M + 1, ), dtype=np.uint16)\n",
    "binary_repr = np.vectorize(np.binary_repr, otypes=[str])\n",
    "binary = np.char.count(binary_repr(binary), '1')\n",
    "prob = np.array((P ** binary) * ((1-P)**(16 - binary)), dtype=np.float128)\n",
    "f[1] = prob[:-1]\n",
    "f[1, 0] += prob[-1]\n",
    "f"
   ]
  },
  {
   "cell_type": "markdown",
   "metadata": {},
   "source": [
    "### `calculated`\n",
    "\n",
    "This array demonstrates which rows of `f` are calculated so far. It is basically put to avoid recalculation of rows."
   ]
  },
  {
   "cell_type": "code",
   "execution_count": 6,
   "metadata": {},
   "outputs": [
    {
     "data": {
      "text/plain": [
       "array([ True,  True, False, False, False, False, False, False, False,\n",
       "       False, False, False, False, False, False, False, False, False,\n",
       "       False, False, False, False, False, False, False, False, False,\n",
       "       False, False, False, False, False, False, False, False, False,\n",
       "       False, False, False, False, False, False, False, False, False,\n",
       "       False, False, False, False, False, False, False, False, False,\n",
       "       False, False, False, False, False, False, False, False, False,\n",
       "       False, False, False, False, False, False, False, False, False,\n",
       "       False, False, False, False, False, False, False, False, False,\n",
       "       False, False, False, False, False, False, False, False, False,\n",
       "       False, False, False, False, False, False, False, False, False,\n",
       "       False, False])"
      ]
     },
     "execution_count": 6,
     "metadata": {},
     "output_type": "execute_result"
    }
   ],
   "source": [
    "calculated = np.zeros(N + 1, dtype=np.bool_)\n",
    "calculated[0] = calculated[1] = True\n",
    "calculated"
   ]
  },
  {
   "cell_type": "markdown",
   "metadata": {},
   "source": [
    "### Definition of Recursive Function `calc`\n",
    "\n",
    "`calc` function is the bread and butter of this analysis. It gets the number of $\\Delta$ values as its input to then compute `f[n]` if `calculated[n]` is not `True`. Next, it searches for a `j` so that both `calculated[j]` and `calculated[n - j]` are `True`. If such `j` is not found, `calc` calls itself on $\\lfloor \\frac{n}{2} \\rfloor$ and $n - \\lfloor \\frac{n}{2} \\rfloor$ and sets `j` to $\\lfloor \\frac{n}{2} \\rfloor$.\n",
    "\n",
    "Thereafter, when the prerequisite rows are selected, the convolution of them is computed and then stored in `convolved`.\n",
    "\n",
    "At last, `f[n]` is calculated by `convolved` provided that in 16-bit, 1's-complement binary representation, if $x > 2^{16} - 2$, it will be represented by $x \\% (2^{16} - 1)$."
   ]
  },
  {
   "cell_type": "code",
   "execution_count": 7,
   "metadata": {},
   "outputs": [],
   "source": [
    "def calc(n):\n",
    "    if calculated[n]:\n",
    "        return\n",
    "    j = -1\n",
    "    for i in range(1, int(n / 2) + 1):\n",
    "        if calculated[i] and calculated[n - i]:\n",
    "            j = i\n",
    "            break\n",
    "    if j == -1:\n",
    "        j = int(n / 2)\n",
    "        calc(j)\n",
    "        calc(n - j)\n",
    "    \n",
    "    convolved = np.convolve(f[j], f[n - j])\n",
    "    f[n] = convolved[:M] + np.concatenate([convolved[M:], np.array([0])])\n",
    "    calculated[n] = True"
   ]
  },
  {
   "cell_type": "markdown",
   "metadata": {},
   "source": [
    "## Computation"
   ]
  },
  {
   "cell_type": "markdown",
   "metadata": {},
   "source": [
    "### Calling `calc` Function"
   ]
  },
  {
   "cell_type": "code",
   "execution_count": 8,
   "metadata": {},
   "outputs": [
    {
     "data": {
      "text/plain": [
       "array([[1.00000000e+00, 0.00000000e+00, 0.00000000e+00, ...,\n",
       "        0.00000000e+00, 0.00000000e+00, 0.00000000e+00],\n",
       "       [8.51457771e-01, 8.60058355e-03, 8.60058355e-03, ...,\n",
       "        9.80100000e-29, 9.90000000e-31, 9.90000000e-31],\n",
       "       [7.24980336e-01, 1.47215626e-02, 1.47215626e-02, ...,\n",
       "        1.37434800e-24, 2.77617735e-26, 2.77617735e-26],\n",
       "       ...,\n",
       "       [0.00000000e+00, 0.00000000e+00, 0.00000000e+00, ...,\n",
       "        0.00000000e+00, 0.00000000e+00, 0.00000000e+00],\n",
       "       [0.00000000e+00, 0.00000000e+00, 0.00000000e+00, ...,\n",
       "        0.00000000e+00, 0.00000000e+00, 0.00000000e+00],\n",
       "       [4.05473368e-06, 7.11080744e-06, 7.11080744e-06, ...,\n",
       "        5.93985773e-06, 5.08259312e-06, 5.08259312e-06]], dtype=float128)"
      ]
     },
     "execution_count": 8,
     "metadata": {},
     "output_type": "execute_result"
    }
   ],
   "source": [
    "calc(N)\n",
    "f"
   ]
  },
  {
   "cell_type": "markdown",
   "metadata": {},
   "source": [
    "### Demonstration of What Rows of `f` Has Been Computed"
   ]
  },
  {
   "cell_type": "code",
   "execution_count": 9,
   "metadata": {},
   "outputs": [
    {
     "data": {
      "text/plain": [
       "array([  0,   1,   2,   3,   6,  12,  13,  25,  50, 100])"
      ]
     },
     "execution_count": 9,
     "metadata": {},
     "output_type": "execute_result"
    }
   ],
   "source": [
    "np.arange(N + 1)[calculated]"
   ]
  },
  {
   "cell_type": "markdown",
   "metadata": {},
   "source": [
    "### Plot of `f[n, 0]` Over `n` $\\in [0, N]$"
   ]
  },
  {
   "cell_type": "code",
   "execution_count": 13,
   "metadata": {},
   "outputs": [
    {
     "data": {
      "image/png": "[encoded data removed]",
      "text/plain": [
       "<Figure size 3000x900 with 1 Axes>"
      ]
     },
     "metadata": {},
     "output_type": "display_data"
    }
   ],
   "source": [
    "fig, ax = plt.subplots()\n",
    "X = np.arange(N + 1)[calculated]\n",
    "Y = f[calculated, 0]\n",
    "ax.plot(X, Y)\n",
    "\n",
    "ax.set_xticks(np.arange(N + 1)[calculated])\n",
    "ax.set_yticks(f[calculated, 0])\n",
    "ax.set_xlim(0, N + 1)\n",
    "fig.set_size_inches(30, 9)\n",
    "plt.show()"
   ]
  },
  {
   "cell_type": "markdown",
   "metadata": {},
   "source": [
    "### Calculating the Probability of an Undetected Error\n",
    "\n",
    "$$\n",
    "    Pr(\\text{Undetected error}) = Pr(\\sum_{i=1}^{n} \\Delta[i] = 0) - Pr(\\text{No alteration})\n",
    "$$"
   ]
  },
  {
   "cell_type": "markdown",
   "metadata": {},
   "source": [
    "#### Important Notice\n",
    "\n",
    "Do notice that we assumed both $\\sum fields'[i] = 0$ and $\\sum fields'[i] = 2^{16} - 1$ show that no error existed. In UDP checksum, however, only the latter shows that no error existed. This assumption was made in order to avoid letting in all the $fields$ and $fields'$ values. Because in that case the probability of checksum not detecting an existing error will be:\n",
    "$$\n",
    "    Pr(\\text{Undetected error}) = Pr(\\sum_{i=1}^{n} \\Delta[i] = 0) - Pr(\\text{No alteration}) - Pr(\\sum_{i=1}^{n} fields'[i] = 0)\n",
    "$$\n",
    "in which to compute $Pr(\\sum_{i=1}^{n} fields'[i] = 0)$ the values of $fields'$ are needed."
   ]
  },
  {
   "cell_type": "code",
   "execution_count": 11,
   "metadata": {},
   "outputs": [
    {
     "name": "stdout",
     "output_type": "stream",
     "text": [
      "The probability is 0.0000039509\n"
     ]
    }
   ],
   "source": [
    "p = f[N, 0] - (1 - P) ** (16 * N)\n",
    "print(f'The probability is {p:.10f}')"
   ]
  },
  {
   "cell_type": "markdown",
   "metadata": {},
   "source": [
    "## Conclusion\n",
    "\n",
    "This article finishes here by computing the probability of not detecting an existing error using UDP checksum. This shows how unlikely it is for UDP checksum to fail finding an error. Therefore, we have proved by the theory of statistics, how valuable it is to put a simple checksum field in a UDP segment."
   ]
  }
 ],
 "metadata": {
  "kernelspec": {
   "display_name": "Python 3",
   "language": "python",
   "name": "python3"
  },
  "language_info": {
   "codemirror_mode": {
    "name": "ipython",
    "version": 3
   },
   "file_extension": ".py",
   "mimetype": "text/x-python",
   "name": "python",
   "nbconvert_exporter": "python",
   "pygments_lexer": "ipython3",
   "version": "3.12.0"
  }
 },
 "nbformat": 4,
 "nbformat_minor": 2
}
