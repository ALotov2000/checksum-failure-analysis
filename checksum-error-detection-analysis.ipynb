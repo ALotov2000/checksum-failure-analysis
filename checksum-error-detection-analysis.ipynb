{
 "cells": [
  {
   "cell_type": "markdown",
   "metadata": {},
   "source": [
    "# Checksum Error Detection Probability"
   ]
  },
  {
   "cell_type": "markdown",
   "metadata": {},
   "source": [
    "## Formulation\n",
    "\n",
    "Parameters are defined as follows:\n",
    "- the probability with which a bit is altered is shown by $p$.\n",
    "- *the size of a segment* is denoted as $n$.\n",
    "- *lines of UDP segment sent from the sender*: $Lines$ that is a binary ($n \\times 32$) matrix.\n",
    "- *lines of UDP segment received at the receiver*: $Lines'$ that is again a binary ($n \\times 32$) matrix.\n",
    "\n",
    "Based on $Lines$ and $Lines'$, we can define $Fields$ and $Fields'$ the following way:\n",
    "$$\n",
    "    Fields[i, 1:16] = \\begin{cases}\n",
    "        Lines[k,1:16] &; i = 2k + 1 \\\\\n",
    "        Lines[k,17:32] &; i = 2k\n",
    "    \\end{cases}\n",
    "$$\n",
    "\n",
    "$$\n",
    "    Fields'[i, 1:16] = \\begin{cases}\n",
    "        Lines'[k,1:16] &; i = 2k + 1 \\\\\n",
    "        Lines'[k,17:32] &; i = 2k\n",
    "    \\end{cases}\n",
    "$$\n",
    "\n",
    "We know:\n",
    "- $Fields[1]$ and $Fields[2]$ represent *source port number* and *destination port number* respectively.\n",
    "- $Fields[3]$ demonstrates $n$.\n",
    "- $Fields[4]$ is the *checksum error* that causes:\n",
    "$$\n",
    "    \\sum_{i=1}^{2n} Field[i] = 0\n",
    "$$\n",
    "where this zero in 1's complement binary representation is shown by $1_{16}$ or $0_{16}$.\n",
    "\n",
    "The same allocations could be done similarly for $Fields'$ as well."
   ]
  },
  {
   "cell_type": "markdown",
   "metadata": {},
   "source": [
    "### The Goal\n",
    "\n",
    "The goal of this notebook is to calculate the following probability:\n",
    "$$\n",
    "    Pr(\\text{Undetected error}) = Pr(\\sum_{i=1}^{2n} Fields'[i] = 0) - Pr(\\text{No alteration})\n",
    "$$\n",
    "\n",
    "Now, if we define:\n",
    "$$ \\Delta[i] := Fields'[i] - Fields[i] $$\n",
    "the following will be true:\n",
    "$$ \\sum_{i=1}^{2n} Fields'[i] = 0 \\longleftrightarrow \\sum_{i=1}^{2n} \\Delta[i] = 0"
   ]
  },
  {
   "cell_type": "markdown",
   "metadata": {},
   "source": [
    "## Parameters"
   ]
  },
  {
   "cell_type": "code",
   "execution_count": 1,
   "metadata": {},
   "outputs": [],
   "source": [
    "P = 0.1\n",
    "N = 100\n",
    "M = 2 ** 16 - 1"
   ]
  },
  {
   "cell_type": "markdown",
   "metadata": {},
   "source": [
    "## Libraries"
   ]
  },
  {
   "cell_type": "code",
   "execution_count": 2,
   "metadata": {},
   "outputs": [],
   "source": [
    "import numpy as np\n",
    "import matplotlib.pyplot as plt"
   ]
  },
  {
   "cell_type": "markdown",
   "metadata": {},
   "source": [
    "## Definition of `f[n, k]`\n",
    "$$ \\tag{1}\n",
    "    f[n, k]: \\text{chance of } \\sum_{i = 1}^{2n} \\Delta[i] = k\n",
    "$$"
   ]
  },
  {
   "cell_type": "markdown",
   "metadata": {},
   "source": [
    "## Equation\n",
    "$$ \\tag{2}\n",
    "    \\forall j \\in [1, n): f[n, k] = \\sum_{x = 0}^{2^{16} - 2} f[j, x]f[n - j, k - x]\n",
    "$$"
   ]
  },
  {
   "cell_type": "code",
   "execution_count": 3,
   "metadata": {},
   "outputs": [
    {
     "data": {
      "text/plain": [
       "array([[0., 0., 0., ..., 0., 0., 0.],\n",
       "       [0., 0., 0., ..., 0., 0., 0.],\n",
       "       [0., 0., 0., ..., 0., 0., 0.],\n",
       "       ...,\n",
       "       [0., 0., 0., ..., 0., 0., 0.],\n",
       "       [0., 0., 0., ..., 0., 0., 0.],\n",
       "       [0., 0., 0., ..., 0., 0., 0.]], dtype=float128)"
      ]
     },
     "execution_count": 3,
     "metadata": {},
     "output_type": "execute_result"
    }
   ],
   "source": [
    "f = np.zeros((N, M), dtype=np.float128)\n",
    "f"
   ]
  },
  {
   "cell_type": "code",
   "execution_count": 4,
   "metadata": {},
   "outputs": [
    {
     "name": "stdout",
     "output_type": "stream",
     "text": [
      "[ 0  1  1 ... 15 15 16]\n"
     ]
    },
    {
     "data": {
      "text/plain": [
       "array([[1.85302019e-01, 2.05891132e-02, 2.05891132e-02, ...,\n",
       "        8.10000000e-15, 9.00000000e-16, 9.00000000e-16],\n",
       "       [0.00000000e+00, 0.00000000e+00, 0.00000000e+00, ...,\n",
       "        0.00000000e+00, 0.00000000e+00, 0.00000000e+00],\n",
       "       [0.00000000e+00, 0.00000000e+00, 0.00000000e+00, ...,\n",
       "        0.00000000e+00, 0.00000000e+00, 0.00000000e+00],\n",
       "       ...,\n",
       "       [0.00000000e+00, 0.00000000e+00, 0.00000000e+00, ...,\n",
       "        0.00000000e+00, 0.00000000e+00, 0.00000000e+00],\n",
       "       [0.00000000e+00, 0.00000000e+00, 0.00000000e+00, ...,\n",
       "        0.00000000e+00, 0.00000000e+00, 0.00000000e+00],\n",
       "       [0.00000000e+00, 0.00000000e+00, 0.00000000e+00, ...,\n",
       "        0.00000000e+00, 0.00000000e+00, 0.00000000e+00]], dtype=float128)"
      ]
     },
     "execution_count": 4,
     "metadata": {},
     "output_type": "execute_result"
    }
   ],
   "source": [
    "binary = np.fromfunction(lambda x: x, (M + 1, ), dtype=np.uint16)\n",
    "binary_repr = np.vectorize(np.binary_repr, otypes=[str])\n",
    "binary = np.char.count(binary_repr(binary), '1')\n",
    "print(binary)\n",
    "prob = np.array((P ** binary) * ((1-P)**(16 - binary)), dtype=np.float128)\n",
    "f[0] = prob[:-1]\n",
    "f[0, 0] += prob[-1]\n",
    "f"
   ]
  },
  {
   "cell_type": "code",
   "execution_count": 5,
   "metadata": {},
   "outputs": [
    {
     "data": {
      "text/plain": [
       "array([ True, False, False, False, False, False, False, False, False,\n",
       "       False, False, False, False, False, False, False, False, False,\n",
       "       False, False, False, False, False, False, False, False, False,\n",
       "       False, False, False, False, False, False, False, False, False,\n",
       "       False, False, False, False, False, False, False, False, False,\n",
       "       False, False, False, False, False, False, False, False, False,\n",
       "       False, False, False, False, False, False, False, False, False,\n",
       "       False, False, False, False, False, False, False, False, False,\n",
       "       False, False, False, False, False, False, False, False, False,\n",
       "       False, False, False, False, False, False, False, False, False,\n",
       "       False, False, False, False, False, False, False, False, False,\n",
       "       False])"
      ]
     },
     "execution_count": 5,
     "metadata": {},
     "output_type": "execute_result"
    }
   ],
   "source": [
    "calculated = np.zeros(N, dtype=np.bool_)\n",
    "calculated[0] = True\n",
    "calculated"
   ]
  },
  {
   "cell_type": "code",
   "execution_count": 6,
   "metadata": {},
   "outputs": [],
   "source": [
    "def calc(n):\n",
    "    if calculated[n - 1]:\n",
    "        return\n",
    "    j = -1\n",
    "    for i in range(1, int((n + 1) / 2)):\n",
    "        if calculated[i - 1] and calculated[n - i - 1]:\n",
    "            j = i\n",
    "            break\n",
    "    if j == -1:\n",
    "        j = int(n / 2)\n",
    "        calc(j)\n",
    "        calc(n - j)\n",
    "    \n",
    "    convolved = np.convolve(f[j - 1], f[n - j - 1])\n",
    "    f[n - 1] = convolved[:M] + np.concatenate([convolved[M:], np.array([0])])\n",
    "    calculated[n - 1] = True"
   ]
  },
  {
   "cell_type": "code",
   "execution_count": 7,
   "metadata": {},
   "outputs": [
    {
     "data": {
      "text/plain": [
       "array([[1.85302019e-01, 2.05891132e-02, 2.05891132e-02, ...,\n",
       "        8.10000000e-15, 9.00000000e-16, 9.00000000e-16],\n",
       "       [3.43368382e-02, 8.17543767e-03, 8.17543767e-03, ...,\n",
       "        2.63595217e-11, 5.78623648e-12, 5.78623648e-12],\n",
       "       [6.36268562e-03, 2.47513458e-03, 2.47513458e-03, ...,\n",
       "        1.84807415e-09, 6.04184754e-10, 6.04184754e-10],\n",
       "       ...,\n",
       "       [0.00000000e+00, 0.00000000e+00, 0.00000000e+00, ...,\n",
       "        0.00000000e+00, 0.00000000e+00, 0.00000000e+00],\n",
       "       [0.00000000e+00, 0.00000000e+00, 0.00000000e+00, ...,\n",
       "        0.00000000e+00, 0.00000000e+00, 0.00000000e+00],\n",
       "       [1.52590219e-05, 1.52590219e-05, 1.52590219e-05, ...,\n",
       "        1.52590219e-05, 1.52590219e-05, 1.52590219e-05]], dtype=float128)"
      ]
     },
     "execution_count": 7,
     "metadata": {},
     "output_type": "execute_result"
    }
   ],
   "source": [
    "calc(N)\n",
    "f"
   ]
  },
  {
   "cell_type": "code",
   "execution_count": 8,
   "metadata": {},
   "outputs": [
    {
     "data": {
      "text/plain": [
       "array([  1,   2,   3,   6,  12,  13,  25,  50, 100])"
      ]
     },
     "execution_count": 8,
     "metadata": {},
     "output_type": "execute_result"
    }
   ],
   "source": [
    "np.arange(1, N + 1)[calculated]"
   ]
  },
  {
   "cell_type": "code",
   "execution_count": 11,
   "metadata": {},
   "outputs": [
    {
     "data": {
      "image/png": "[encoded data removed]",
      "text/plain": [
       "<Figure size 640x480 with 1 Axes>"
      ]
     },
     "metadata": {},
     "output_type": "display_data"
    }
   ],
   "source": [
    "fig, ax = plt.subplots()\n",
    "X = np.arange(1, N + 1)[calculated]\n",
    "Y = f[calculated, 0]\n",
    "ax.plot(X, Y)\n",
    "# ax.set_xticks(np.arange(1, N + 1)[calculated])\n",
    "plt.show()"
   ]
  },
  {
   "cell_type": "markdown",
   "metadata": {},
   "source": [
    "## Calculating the Probability"
   ]
  },
  {
   "cell_type": "code",
   "execution_count": 10,
   "metadata": {},
   "outputs": [
    {
     "name": "stdout",
     "output_type": "stream",
     "text": [
      "The probability is 0.0000152590\n"
     ]
    }
   ],
   "source": [
    "p = f[N - 1, 0] - (1 - P) ** (16 * N)\n",
    "print(f'The probability is {p:.10f}')"
   ]
  }
 ],
 "metadata": {
  "kernelspec": {
   "display_name": "Python 3",
   "language": "python",
   "name": "python3"
  },
  "language_info": {
   "codemirror_mode": {
    "name": "ipython",
    "version": 3
   },
   "file_extension": ".py",
   "mimetype": "text/x-python",
   "name": "python",
   "nbconvert_exporter": "python",
   "pygments_lexer": "ipython3",
   "version": "3.12.0"
  }
 },
 "nbformat": 4,
 "nbformat_minor": 2
}
