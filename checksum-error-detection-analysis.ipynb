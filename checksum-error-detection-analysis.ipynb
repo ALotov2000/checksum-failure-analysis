{
 "cells": [
  {
   "cell_type": "markdown",
   "metadata": {},
   "source": [
    "# Checksum Error Detection Probability"
   ]
  },
  {
   "cell_type": "code",
   "execution_count": 1,
   "metadata": {},
   "outputs": [],
   "source": [
    "P = 0.1\n",
    "n = 5"
   ]
  },
  {
   "cell_type": "code",
   "execution_count": 2,
   "metadata": {},
   "outputs": [],
   "source": [
    "import numpy as np\n",
    "import matplotlib.pyplot as plt"
   ]
  },
  {
   "cell_type": "markdown",
   "metadata": {},
   "source": [
    "$$ \\tag{1}\n",
    "    f(n, k): \\text{chance of } \\sum_{i = 0}^{n} \\Delta_i = k\n",
    "$$"
   ]
  },
  {
   "cell_type": "markdown",
   "metadata": {},
   "source": [
    "$$ \\tag{2}\n",
    "    f(n, k) = \\sum_{x = 0}^{2^{16} - 1} P(\\Delta_n = x)f(n - 1, k + \\bar{x})\n",
    "$$\n",
    "where \n",
    "$$\n",
    "    \\bar{x} := \n",
    "        \\begin{cases}\n",
    "            \\bigg(0, 2^{16} - 1\\bigg) & x \\in \\{0, 2^{16} - 1\\} \\\\\n",
    "            \\bigg(2^{16} - 1 - x, \\bigg) & \\text{o.w.}\n",
    "        \\end{cases}\n",
    "$$"
   ]
  },
  {
   "cell_type": "code",
   "execution_count": 6,
   "metadata": {},
   "outputs": [
    {
     "data": {
      "text/plain": [
       "array([[1., 1., 1., ..., 1., 1., 1.],\n",
       "       [0., 0., 0., ..., 0., 0., 0.],\n",
       "       [0., 0., 0., ..., 0., 0., 0.],\n",
       "       [0., 0., 0., ..., 0., 0., 0.],\n",
       "       [0., 0., 0., ..., 0., 0., 0.],\n",
       "       [0., 0., 0., ..., 0., 0., 0.]])"
      ]
     },
     "execution_count": 6,
     "metadata": {},
     "output_type": "execute_result"
    }
   ],
   "source": [
    "f = np.zeros((n + 1, 2 ** 16), dtype=np.float64)\n",
    "f[0] = np.ones(2 ** 16)\n",
    "f"
   ]
  },
  {
   "cell_type": "code",
   "execution_count": 7,
   "metadata": {},
   "outputs": [
    {
     "name": "stdout",
     "output_type": "stream",
     "text": [
      "[ 0  1  1 ... 15 15 16]\n"
     ]
    },
    {
     "data": {
      "text/plain": [
       "array([[1.00000000e+00, 1.00000000e+00, 1.00000000e+00, ...,\n",
       "        1.00000000e+00, 1.00000000e+00, 1.00000000e+00],\n",
       "       [1.85302019e-01, 2.05891132e-02, 2.05891132e-02, ...,\n",
       "        9.00000000e-16, 9.00000000e-16, 1.00000000e-16],\n",
       "       [0.00000000e+00, 0.00000000e+00, 0.00000000e+00, ...,\n",
       "        0.00000000e+00, 0.00000000e+00, 0.00000000e+00],\n",
       "       [0.00000000e+00, 0.00000000e+00, 0.00000000e+00, ...,\n",
       "        0.00000000e+00, 0.00000000e+00, 0.00000000e+00],\n",
       "       [0.00000000e+00, 0.00000000e+00, 0.00000000e+00, ...,\n",
       "        0.00000000e+00, 0.00000000e+00, 0.00000000e+00],\n",
       "       [0.00000000e+00, 0.00000000e+00, 0.00000000e+00, ...,\n",
       "        0.00000000e+00, 0.00000000e+00, 0.00000000e+00]])"
      ]
     },
     "execution_count": 7,
     "metadata": {},
     "output_type": "execute_result"
    }
   ],
   "source": [
    "binary = np.fromfunction(lambda x: x, (2 ** 16, ), dtype=np.uint16)\n",
    "binary_repr = np.vectorize(np.binary_repr, otypes=[str])\n",
    "binary = np.char.count(binary_repr(binary), '1')\n",
    "print(binary)\n",
    "prob = np.array((P ** binary) * ((1-P)**(16 - binary)), dtype=np.float128)\n",
    "f[1] = prob\n",
    "f"
   ]
  },
  {
   "cell_type": "code",
   "execution_count": 8,
   "metadata": {},
   "outputs": [
    {
     "data": {
      "text/plain": [
       "array([ True,  True, False, False, False, False])"
      ]
     },
     "execution_count": 8,
     "metadata": {},
     "output_type": "execute_result"
    }
   ],
   "source": [
    "done = np.zeros(n + 1, dtype=np.bool_)\n",
    "done[0], done[1] = True, True\n",
    "done"
   ]
  },
  {
   "cell_type": "code",
   "execution_count": 9,
   "metadata": {},
   "outputs": [
    {
     "data": {
      "text/plain": [
       "(65535,)"
      ]
     },
     "execution_count": 9,
     "metadata": {},
     "output_type": "execute_result"
    }
   ],
   "source": [
    "np.concatenate([f[0, 1:], f[0, :1]])[:-1].shape"
   ]
  },
  {
   "cell_type": "code",
   "execution_count": 10,
   "metadata": {},
   "outputs": [
    {
     "name": "stdout",
     "output_type": "stream",
     "text": [
      "5\n",
      "2\n"
     ]
    },
    {
     "name": "stdout",
     "output_type": "stream",
     "text": [
      "3\n"
     ]
    },
    {
     "data": {
      "text/plain": [
       "array([[1.00000000e+00, 1.00000000e+00, 1.00000000e+00, ...,\n",
       "        1.00000000e+00, 1.00000000e+00, 1.00000000e+00],\n",
       "       [1.85302019e-01, 2.05891132e-02, 2.05891132e-02, ...,\n",
       "        9.00000000e-16, 9.00000000e-16, 1.00000000e-16],\n",
       "       [3.43368382e-02, 8.17543767e-03, 8.17543767e-03, ...,\n",
       "        5.78623648e-12, 5.78623648e-12, 1.21439531e-12],\n",
       "       [6.36268563e-03, 2.47513458e-03, 2.47513458e-03, ...,\n",
       "        6.04184754e-10, 6.04184754e-10, 1.83697597e-10],\n",
       "       [0.00000000e+00, 0.00000000e+00, 0.00000000e+00, ...,\n",
       "        0.00000000e+00, 0.00000000e+00, 0.00000000e+00],\n",
       "       [2.18515993e-04, 1.84712295e-04, 1.84712295e-04, ...,\n",
       "        8.69529289e-08, 8.69529289e-08, 4.14866164e-08]])"
      ]
     },
     "execution_count": 10,
     "metadata": {},
     "output_type": "execute_result"
    }
   ],
   "source": [
    "def calc(n):\n",
    "    if done[n]:\n",
    "        return\n",
    "    print(n)\n",
    "    j = -1\n",
    "    for i in range(1, int(n / 2)):\n",
    "        if done[i] and done[n - i]:\n",
    "            j = i\n",
    "    if j == -1:\n",
    "        j = int(n / 2)\n",
    "        calc(j) ; calc(n - j)\n",
    "        \n",
    "    f[n] = np.zeros((2 ** 16))\n",
    "    for i in range(2 ** 16):\n",
    "        i_bar = 2 ** 16 - 1 - i\n",
    "        i_bar_plus = 1 if i_bar == 2 ** 16 - 1 else i_bar + 1\n",
    "        X = np.concatenate([f[j, i:], f[j, :i]])\n",
    "        Y = np.concatenate([np.full((i_bar + 1,), f[n - j, i_bar]), np.full((i,), f[n - j, i_bar_plus])])\n",
    "        \n",
    "        f[n] += X * Y\n",
    "        \n",
    "        if i == 0:\n",
    "            X = np.concatenate([f[j, i:], f[j, :i]])\n",
    "            Y = np.concatenate([np.full((2 ** 16,), f[n - j, 0]), np.full((0,), f[n - j, 1])])\n",
    "            f[n] += X * Y\n",
    "    done[n] = True\n",
    "    \n",
    "calc(n)\n",
    "f"
   ]
  },
  {
   "cell_type": "code",
   "execution_count": 14,
   "metadata": {},
   "outputs": [
    {
     "data": {
      "text/plain": [
       "8.297955786664107e-08"
      ]
     },
     "execution_count": 14,
     "metadata": {},
     "output_type": "execute_result"
    }
   ],
   "source": [
    "f[n, -1] + f[n, 0] - (1 - P) ** (16 * n)"
   ]
  },
  {
   "cell_type": "code",
   "execution_count": 12,
   "metadata": {},
   "outputs": [
    {
     "data": {
      "image/png": "[encoded data removed]",
      "text/plain": [
       "<Figure size 640x480 with 1 Axes>"
      ]
     },
     "metadata": {},
     "output_type": "display_data"
    }
   ],
   "source": [
    "fig, ax = plt.subplots()\n",
    "Y = f[:, 0]\n",
    "Y = np.where(Y == 0, None, Y)\n",
    "ax.plot(Y)\n",
    "plt.show()"
   ]
  },
  {
   "cell_type": "code",
   "execution_count": 13,
   "metadata": {},
   "outputs": [
    {
     "data": {
      "text/plain": [
       "array([6.55360000e+04, 1.00000000e+00, 1.00000000e+00, 1.00000000e+00,\n",
       "       0.00000000e+00, 1.00000004e+00])"
      ]
     },
     "execution_count": 13,
     "metadata": {},
     "output_type": "execute_result"
    }
   ],
   "source": [
    "np.sum(f, axis=1)"
   ]
  }
 ],
 "metadata": {
  "kernelspec": {
   "display_name": "Python 3",
   "language": "python",
   "name": "python3"
  },
  "language_info": {
   "codemirror_mode": {
    "name": "ipython",
    "version": 3
   },
   "file_extension": ".py",
   "mimetype": "text/x-python",
   "name": "python",
   "nbconvert_exporter": "python",
   "pygments_lexer": "ipython3",
   "version": "3.12.0"
  }
 },
 "nbformat": 4,
 "nbformat_minor": 2
}
